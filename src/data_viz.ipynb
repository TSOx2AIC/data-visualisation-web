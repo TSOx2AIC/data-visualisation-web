{
 "cells": [
  {
   "cell_type": "code",
   "execution_count": 65,
   "metadata": {},
   "outputs": [],
   "source": [
    "import numpy as np\n",
    "import pandas as pd\n",
    "import data_analysis_temp as da\n",
    "import plotly.express as px\n",
    "import plotly.graph_objects as go\n"
   ]
  },
  {
   "cell_type": "code",
   "execution_count": 2,
   "metadata": {},
   "outputs": [
    {
     "name": "stderr",
     "output_type": "stream",
     "text": [
      "/Users/leksa/Documents/MIR/TSAI Hackathon/data-visualisation-web/src/data_analysis.py:23: FutureWarning: The frame.append method is deprecated and will be removed from pandas in a future version. Use pandas.concat instead.\n",
      "  top_50 = top_50.append(df, ignore_index=True)\n",
      "/Users/leksa/Documents/MIR/TSAI Hackathon/data-visualisation-web/src/data_analysis.py:23: FutureWarning: The frame.append method is deprecated and will be removed from pandas in a future version. Use pandas.concat instead.\n",
      "  top_50 = top_50.append(df, ignore_index=True)\n",
      "/Users/leksa/Documents/MIR/TSAI Hackathon/data-visualisation-web/src/data_analysis.py:23: FutureWarning: The frame.append method is deprecated and will be removed from pandas in a future version. Use pandas.concat instead.\n",
      "  top_50 = top_50.append(df, ignore_index=True)\n"
     ]
    }
   ],
   "source": [
    "user_data, top50 = da.load_data()"
   ]
  },
  {
   "cell_type": "code",
   "execution_count": 5,
   "metadata": {},
   "outputs": [
    {
     "data": {
      "text/html": [
       "<div>\n",
       "<style scoped>\n",
       "    .dataframe tbody tr th:only-of-type {\n",
       "        vertical-align: middle;\n",
       "    }\n",
       "\n",
       "    .dataframe tbody tr th {\n",
       "        vertical-align: top;\n",
       "    }\n",
       "\n",
       "    .dataframe thead th {\n",
       "        text-align: right;\n",
       "    }\n",
       "</style>\n",
       "<table border=\"1\" class=\"dataframe\">\n",
       "  <thead>\n",
       "    <tr style=\"text-align: right;\">\n",
       "      <th></th>\n",
       "      <th>id</th>\n",
       "      <th>name</th>\n",
       "      <th>popularity</th>\n",
       "      <th>url</th>\n",
       "      <th>preview_url</th>\n",
       "      <th>artist_ids</th>\n",
       "      <th>artist_names</th>\n",
       "      <th>genres</th>\n",
       "      <th>danceability</th>\n",
       "      <th>energy</th>\n",
       "      <th>...</th>\n",
       "      <th>mode</th>\n",
       "      <th>speechiness</th>\n",
       "      <th>acousticness</th>\n",
       "      <th>instrumentalness</th>\n",
       "      <th>liveness</th>\n",
       "      <th>valence</th>\n",
       "      <th>tempo</th>\n",
       "      <th>duration_ms</th>\n",
       "      <th>time_signature</th>\n",
       "      <th>user_id</th>\n",
       "    </tr>\n",
       "  </thead>\n",
       "  <tbody>\n",
       "    <tr>\n",
       "      <th>0</th>\n",
       "      <td>4f8Mh5wuWHOsfXtzjrJB3t</td>\n",
       "      <td>I THINK</td>\n",
       "      <td>73</td>\n",
       "      <td>https://open.spotify.com/track/4f8Mh5wuWHOsfXt...</td>\n",
       "      <td>https://p.scdn.co/mp3-preview/ffabad2f16786a12...</td>\n",
       "      <td>['4V8LLVI7PbaPR0K2TGSxFF']</td>\n",
       "      <td>['Tyler, The Creator']</td>\n",
       "      <td>['hip hop', 'rap']</td>\n",
       "      <td>0.826</td>\n",
       "      <td>0.579</td>\n",
       "      <td>...</td>\n",
       "      <td>0</td>\n",
       "      <td>0.0801</td>\n",
       "      <td>0.00881</td>\n",
       "      <td>0.000000</td>\n",
       "      <td>0.1290</td>\n",
       "      <td>0.431</td>\n",
       "      <td>121.075</td>\n",
       "      <td>212013</td>\n",
       "      <td>4</td>\n",
       "      <td>22kkfwe46kc2wbdx5z7r2jy2y</td>\n",
       "    </tr>\n",
       "    <tr>\n",
       "      <th>1</th>\n",
       "      <td>5hVghJ4KaYES3BFUATCYn0</td>\n",
       "      <td>EARFQUAKE</td>\n",
       "      <td>81</td>\n",
       "      <td>https://open.spotify.com/track/5hVghJ4KaYES3BF...</td>\n",
       "      <td>https://p.scdn.co/mp3-preview/eb91598e2eff6bb1...</td>\n",
       "      <td>['4V8LLVI7PbaPR0K2TGSxFF']</td>\n",
       "      <td>['Tyler, The Creator']</td>\n",
       "      <td>['hip hop', 'rap']</td>\n",
       "      <td>0.554</td>\n",
       "      <td>0.498</td>\n",
       "      <td>...</td>\n",
       "      <td>1</td>\n",
       "      <td>0.0685</td>\n",
       "      <td>0.23000</td>\n",
       "      <td>0.000006</td>\n",
       "      <td>0.7950</td>\n",
       "      <td>0.413</td>\n",
       "      <td>79.635</td>\n",
       "      <td>190067</td>\n",
       "      <td>4</td>\n",
       "      <td>22kkfwe46kc2wbdx5z7r2jy2y</td>\n",
       "    </tr>\n",
       "    <tr>\n",
       "      <th>2</th>\n",
       "      <td>7KA4W4McWYRpgf0fWsJZWB</td>\n",
       "      <td>See You Again (feat. Kali Uchis)</td>\n",
       "      <td>85</td>\n",
       "      <td>https://open.spotify.com/track/7KA4W4McWYRpgf0...</td>\n",
       "      <td>https://p.scdn.co/mp3-preview/e6c4c9656721fe0a...</td>\n",
       "      <td>['4V8LLVI7PbaPR0K2TGSxFF', '1U1el3k54VvEUzo3yb...</td>\n",
       "      <td>['Tyler, The Creator', 'Kali Uchis']</td>\n",
       "      <td>[['hip hop', 'rap'], ['colombian pop', 'dance ...</td>\n",
       "      <td>0.558</td>\n",
       "      <td>0.559</td>\n",
       "      <td>...</td>\n",
       "      <td>1</td>\n",
       "      <td>0.0959</td>\n",
       "      <td>0.37100</td>\n",
       "      <td>0.000007</td>\n",
       "      <td>0.1090</td>\n",
       "      <td>0.620</td>\n",
       "      <td>78.558</td>\n",
       "      <td>180387</td>\n",
       "      <td>4</td>\n",
       "      <td>22kkfwe46kc2wbdx5z7r2jy2y</td>\n",
       "    </tr>\n",
       "    <tr>\n",
       "      <th>3</th>\n",
       "      <td>7y8X0Z04gJCKtfrnSAMywJ</td>\n",
       "      <td>Hacker</td>\n",
       "      <td>57</td>\n",
       "      <td>https://open.spotify.com/track/7y8X0Z04gJCKtfr...</td>\n",
       "      <td>https://p.scdn.co/mp3-preview/acfc6ea5de718306...</td>\n",
       "      <td>['5RADpgYLOuS2ZxDq7ggYYH']</td>\n",
       "      <td>['Death Grips']</td>\n",
       "      <td>['alternative hip hop', 'escape room', 'experi...</td>\n",
       "      <td>0.681</td>\n",
       "      <td>0.880</td>\n",
       "      <td>...</td>\n",
       "      <td>1</td>\n",
       "      <td>0.2270</td>\n",
       "      <td>0.05670</td>\n",
       "      <td>0.000000</td>\n",
       "      <td>0.0893</td>\n",
       "      <td>0.380</td>\n",
       "      <td>124.885</td>\n",
       "      <td>275520</td>\n",
       "      <td>4</td>\n",
       "      <td>22kkfwe46kc2wbdx5z7r2jy2y</td>\n",
       "    </tr>\n",
       "    <tr>\n",
       "      <th>4</th>\n",
       "      <td>0HAqq2GcQKyi3s87GuN7jU</td>\n",
       "      <td>Amoeba</td>\n",
       "      <td>72</td>\n",
       "      <td>https://open.spotify.com/track/0HAqq2GcQKyi3s8...</td>\n",
       "      <td>https://p.scdn.co/mp3-preview/0f23d3bf01c9c780...</td>\n",
       "      <td>['3l0CmX0FuQjFxr8SK7Vqag']</td>\n",
       "      <td>['Clairo']</td>\n",
       "      <td>['bedroom pop', 'indie pop', 'pop']</td>\n",
       "      <td>0.739</td>\n",
       "      <td>0.491</td>\n",
       "      <td>...</td>\n",
       "      <td>1</td>\n",
       "      <td>0.0270</td>\n",
       "      <td>0.79100</td>\n",
       "      <td>0.036600</td>\n",
       "      <td>0.1000</td>\n",
       "      <td>0.707</td>\n",
       "      <td>111.008</td>\n",
       "      <td>228922</td>\n",
       "      <td>4</td>\n",
       "      <td>22kkfwe46kc2wbdx5z7r2jy2y</td>\n",
       "    </tr>\n",
       "    <tr>\n",
       "      <th>...</th>\n",
       "      <td>...</td>\n",
       "      <td>...</td>\n",
       "      <td>...</td>\n",
       "      <td>...</td>\n",
       "      <td>...</td>\n",
       "      <td>...</td>\n",
       "      <td>...</td>\n",
       "      <td>...</td>\n",
       "      <td>...</td>\n",
       "      <td>...</td>\n",
       "      <td>...</td>\n",
       "      <td>...</td>\n",
       "      <td>...</td>\n",
       "      <td>...</td>\n",
       "      <td>...</td>\n",
       "      <td>...</td>\n",
       "      <td>...</td>\n",
       "      <td>...</td>\n",
       "      <td>...</td>\n",
       "      <td>...</td>\n",
       "      <td>...</td>\n",
       "    </tr>\n",
       "    <tr>\n",
       "      <th>145</th>\n",
       "      <td>29m79w9xPMH4YCD6r8JSmV</td>\n",
       "      <td>Excuses</td>\n",
       "      <td>82</td>\n",
       "      <td>https://open.spotify.com/track/29m79w9xPMH4YCD...</td>\n",
       "      <td>https://p.scdn.co/mp3-preview/18e50eaa91327faa...</td>\n",
       "      <td>['6LEG9Ld1aLImEFEVHdWNSB', '5DHi2MeoRgAwPE0A0q...</td>\n",
       "      <td>['AP Dhillon', 'Gurinder Gill', 'Intense']</td>\n",
       "      <td>[['punjabi hip hop', 'punjabi pop'], [], ['des...</td>\n",
       "      <td>0.837</td>\n",
       "      <td>0.717</td>\n",
       "      <td>...</td>\n",
       "      <td>0</td>\n",
       "      <td>0.0822</td>\n",
       "      <td>0.08420</td>\n",
       "      <td>0.000000</td>\n",
       "      <td>0.1490</td>\n",
       "      <td>0.494</td>\n",
       "      <td>94.984</td>\n",
       "      <td>176233</td>\n",
       "      <td>4</td>\n",
       "      <td>31opghsdw4vzh76ui6mvzo4bdy5i</td>\n",
       "    </tr>\n",
       "    <tr>\n",
       "      <th>146</th>\n",
       "      <td>6G699QfN1BWYWXfiblH51F</td>\n",
       "      <td>Kusu Kusu (From \"Satyameva Jayate 2\")</td>\n",
       "      <td>70</td>\n",
       "      <td>https://open.spotify.com/track/6G699QfN1BWYWXf...</td>\n",
       "      <td>https://p.scdn.co/mp3-preview/a44ddc5b290702a9...</td>\n",
       "      <td>['4f7KfxeHq9BiylGmyXepGt', '7C5xVXoqim1TICnCMZ...</td>\n",
       "      <td>['Tanishk Bagchi', 'Zahrah S Khan', 'Dev Negi']</td>\n",
       "      <td>[['desi pop', 'modern bollywood'], [], ['desi ...</td>\n",
       "      <td>0.742</td>\n",
       "      <td>0.911</td>\n",
       "      <td>...</td>\n",
       "      <td>1</td>\n",
       "      <td>0.0572</td>\n",
       "      <td>0.01370</td>\n",
       "      <td>0.000810</td>\n",
       "      <td>0.0593</td>\n",
       "      <td>0.780</td>\n",
       "      <td>101.000</td>\n",
       "      <td>195616</td>\n",
       "      <td>4</td>\n",
       "      <td>31opghsdw4vzh76ui6mvzo4bdy5i</td>\n",
       "    </tr>\n",
       "    <tr>\n",
       "      <th>147</th>\n",
       "      <td>2O3CJdn2fUh90n7his0v4D</td>\n",
       "      <td>Bilionera</td>\n",
       "      <td>46</td>\n",
       "      <td>https://open.spotify.com/track/2O3CJdn2fUh90n7...</td>\n",
       "      <td>https://p.scdn.co/mp3-preview/2b07df2d29232254...</td>\n",
       "      <td>['6RQDTlies3nrNDJwXvbBZT']</td>\n",
       "      <td>['Otilia']</td>\n",
       "      <td>['romanian pop']</td>\n",
       "      <td>0.666</td>\n",
       "      <td>0.816</td>\n",
       "      <td>...</td>\n",
       "      <td>0</td>\n",
       "      <td>0.0514</td>\n",
       "      <td>0.04640</td>\n",
       "      <td>0.004020</td>\n",
       "      <td>0.1140</td>\n",
       "      <td>0.834</td>\n",
       "      <td>170.169</td>\n",
       "      <td>185202</td>\n",
       "      <td>4</td>\n",
       "      <td>31opghsdw4vzh76ui6mvzo4bdy5i</td>\n",
       "    </tr>\n",
       "    <tr>\n",
       "      <th>148</th>\n",
       "      <td>4vwPirpSJCOiIsgxMV4Xcv</td>\n",
       "      <td>Liggi</td>\n",
       "      <td>69</td>\n",
       "      <td>https://open.spotify.com/track/4vwPirpSJCOiIsg...</td>\n",
       "      <td>https://p.scdn.co/mp3-preview/46a9dc6c12e96121...</td>\n",
       "      <td>['72beYOeW2sb2yfcS4JsRvb']</td>\n",
       "      <td>['Ritviz']</td>\n",
       "      <td>['desi hip hop', 'desi pop', 'hindi indie', 'i...</td>\n",
       "      <td>0.786</td>\n",
       "      <td>0.667</td>\n",
       "      <td>...</td>\n",
       "      <td>1</td>\n",
       "      <td>0.0540</td>\n",
       "      <td>0.01120</td>\n",
       "      <td>0.053000</td>\n",
       "      <td>0.0740</td>\n",
       "      <td>0.688</td>\n",
       "      <td>102.046</td>\n",
       "      <td>181176</td>\n",
       "      <td>4</td>\n",
       "      <td>31opghsdw4vzh76ui6mvzo4bdy5i</td>\n",
       "    </tr>\n",
       "    <tr>\n",
       "      <th>149</th>\n",
       "      <td>1aX0Ki80LFzzhqxqRlqbAV</td>\n",
       "      <td>Morirò da Re</td>\n",
       "      <td>68</td>\n",
       "      <td>https://open.spotify.com/track/1aX0Ki80LFzzhqx...</td>\n",
       "      <td>https://p.scdn.co/mp3-preview/2f1a26e2da72a0e2...</td>\n",
       "      <td>['0lAWpj5szCSwM4rUMHYmrr']</td>\n",
       "      <td>['Måneskin']</td>\n",
       "      <td>['indie rock italiano', 'italian pop']</td>\n",
       "      <td>0.605</td>\n",
       "      <td>0.881</td>\n",
       "      <td>...</td>\n",
       "      <td>1</td>\n",
       "      <td>0.1530</td>\n",
       "      <td>0.12300</td>\n",
       "      <td>0.000000</td>\n",
       "      <td>0.0380</td>\n",
       "      <td>0.928</td>\n",
       "      <td>193.788</td>\n",
       "      <td>157880</td>\n",
       "      <td>4</td>\n",
       "      <td>31opghsdw4vzh76ui6mvzo4bdy5i</td>\n",
       "    </tr>\n",
       "  </tbody>\n",
       "</table>\n",
       "<p>150 rows × 22 columns</p>\n",
       "</div>"
      ],
      "text/plain": [
       "                         id                                   name  \\\n",
       "0    4f8Mh5wuWHOsfXtzjrJB3t                                I THINK   \n",
       "1    5hVghJ4KaYES3BFUATCYn0                              EARFQUAKE   \n",
       "2    7KA4W4McWYRpgf0fWsJZWB       See You Again (feat. Kali Uchis)   \n",
       "3    7y8X0Z04gJCKtfrnSAMywJ                                 Hacker   \n",
       "4    0HAqq2GcQKyi3s87GuN7jU                                 Amoeba   \n",
       "..                      ...                                    ...   \n",
       "145  29m79w9xPMH4YCD6r8JSmV                                Excuses   \n",
       "146  6G699QfN1BWYWXfiblH51F  Kusu Kusu (From \"Satyameva Jayate 2\")   \n",
       "147  2O3CJdn2fUh90n7his0v4D                              Bilionera   \n",
       "148  4vwPirpSJCOiIsgxMV4Xcv                                  Liggi   \n",
       "149  1aX0Ki80LFzzhqxqRlqbAV                           Morirò da Re   \n",
       "\n",
       "     popularity                                                url  \\\n",
       "0            73  https://open.spotify.com/track/4f8Mh5wuWHOsfXt...   \n",
       "1            81  https://open.spotify.com/track/5hVghJ4KaYES3BF...   \n",
       "2            85  https://open.spotify.com/track/7KA4W4McWYRpgf0...   \n",
       "3            57  https://open.spotify.com/track/7y8X0Z04gJCKtfr...   \n",
       "4            72  https://open.spotify.com/track/0HAqq2GcQKyi3s8...   \n",
       "..          ...                                                ...   \n",
       "145          82  https://open.spotify.com/track/29m79w9xPMH4YCD...   \n",
       "146          70  https://open.spotify.com/track/6G699QfN1BWYWXf...   \n",
       "147          46  https://open.spotify.com/track/2O3CJdn2fUh90n7...   \n",
       "148          69  https://open.spotify.com/track/4vwPirpSJCOiIsg...   \n",
       "149          68  https://open.spotify.com/track/1aX0Ki80LFzzhqx...   \n",
       "\n",
       "                                           preview_url  \\\n",
       "0    https://p.scdn.co/mp3-preview/ffabad2f16786a12...   \n",
       "1    https://p.scdn.co/mp3-preview/eb91598e2eff6bb1...   \n",
       "2    https://p.scdn.co/mp3-preview/e6c4c9656721fe0a...   \n",
       "3    https://p.scdn.co/mp3-preview/acfc6ea5de718306...   \n",
       "4    https://p.scdn.co/mp3-preview/0f23d3bf01c9c780...   \n",
       "..                                                 ...   \n",
       "145  https://p.scdn.co/mp3-preview/18e50eaa91327faa...   \n",
       "146  https://p.scdn.co/mp3-preview/a44ddc5b290702a9...   \n",
       "147  https://p.scdn.co/mp3-preview/2b07df2d29232254...   \n",
       "148  https://p.scdn.co/mp3-preview/46a9dc6c12e96121...   \n",
       "149  https://p.scdn.co/mp3-preview/2f1a26e2da72a0e2...   \n",
       "\n",
       "                                            artist_ids  \\\n",
       "0                           ['4V8LLVI7PbaPR0K2TGSxFF']   \n",
       "1                           ['4V8LLVI7PbaPR0K2TGSxFF']   \n",
       "2    ['4V8LLVI7PbaPR0K2TGSxFF', '1U1el3k54VvEUzo3yb...   \n",
       "3                           ['5RADpgYLOuS2ZxDq7ggYYH']   \n",
       "4                           ['3l0CmX0FuQjFxr8SK7Vqag']   \n",
       "..                                                 ...   \n",
       "145  ['6LEG9Ld1aLImEFEVHdWNSB', '5DHi2MeoRgAwPE0A0q...   \n",
       "146  ['4f7KfxeHq9BiylGmyXepGt', '7C5xVXoqim1TICnCMZ...   \n",
       "147                         ['6RQDTlies3nrNDJwXvbBZT']   \n",
       "148                         ['72beYOeW2sb2yfcS4JsRvb']   \n",
       "149                         ['0lAWpj5szCSwM4rUMHYmrr']   \n",
       "\n",
       "                                        artist_names  \\\n",
       "0                             ['Tyler, The Creator']   \n",
       "1                             ['Tyler, The Creator']   \n",
       "2               ['Tyler, The Creator', 'Kali Uchis']   \n",
       "3                                    ['Death Grips']   \n",
       "4                                         ['Clairo']   \n",
       "..                                               ...   \n",
       "145       ['AP Dhillon', 'Gurinder Gill', 'Intense']   \n",
       "146  ['Tanishk Bagchi', 'Zahrah S Khan', 'Dev Negi']   \n",
       "147                                       ['Otilia']   \n",
       "148                                       ['Ritviz']   \n",
       "149                                     ['Måneskin']   \n",
       "\n",
       "                                                genres  danceability  energy  \\\n",
       "0                                   ['hip hop', 'rap']         0.826   0.579   \n",
       "1                                   ['hip hop', 'rap']         0.554   0.498   \n",
       "2    [['hip hop', 'rap'], ['colombian pop', 'dance ...         0.558   0.559   \n",
       "3    ['alternative hip hop', 'escape room', 'experi...         0.681   0.880   \n",
       "4                  ['bedroom pop', 'indie pop', 'pop']         0.739   0.491   \n",
       "..                                                 ...           ...     ...   \n",
       "145  [['punjabi hip hop', 'punjabi pop'], [], ['des...         0.837   0.717   \n",
       "146  [['desi pop', 'modern bollywood'], [], ['desi ...         0.742   0.911   \n",
       "147                                   ['romanian pop']         0.666   0.816   \n",
       "148  ['desi hip hop', 'desi pop', 'hindi indie', 'i...         0.786   0.667   \n",
       "149             ['indie rock italiano', 'italian pop']         0.605   0.881   \n",
       "\n",
       "     ...  mode  speechiness  acousticness  instrumentalness  liveness  \\\n",
       "0    ...     0       0.0801       0.00881          0.000000    0.1290   \n",
       "1    ...     1       0.0685       0.23000          0.000006    0.7950   \n",
       "2    ...     1       0.0959       0.37100          0.000007    0.1090   \n",
       "3    ...     1       0.2270       0.05670          0.000000    0.0893   \n",
       "4    ...     1       0.0270       0.79100          0.036600    0.1000   \n",
       "..   ...   ...          ...           ...               ...       ...   \n",
       "145  ...     0       0.0822       0.08420          0.000000    0.1490   \n",
       "146  ...     1       0.0572       0.01370          0.000810    0.0593   \n",
       "147  ...     0       0.0514       0.04640          0.004020    0.1140   \n",
       "148  ...     1       0.0540       0.01120          0.053000    0.0740   \n",
       "149  ...     1       0.1530       0.12300          0.000000    0.0380   \n",
       "\n",
       "     valence    tempo  duration_ms  time_signature  \\\n",
       "0      0.431  121.075       212013               4   \n",
       "1      0.413   79.635       190067               4   \n",
       "2      0.620   78.558       180387               4   \n",
       "3      0.380  124.885       275520               4   \n",
       "4      0.707  111.008       228922               4   \n",
       "..       ...      ...          ...             ...   \n",
       "145    0.494   94.984       176233               4   \n",
       "146    0.780  101.000       195616               4   \n",
       "147    0.834  170.169       185202               4   \n",
       "148    0.688  102.046       181176               4   \n",
       "149    0.928  193.788       157880               4   \n",
       "\n",
       "                          user_id  \n",
       "0       22kkfwe46kc2wbdx5z7r2jy2y  \n",
       "1       22kkfwe46kc2wbdx5z7r2jy2y  \n",
       "2       22kkfwe46kc2wbdx5z7r2jy2y  \n",
       "3       22kkfwe46kc2wbdx5z7r2jy2y  \n",
       "4       22kkfwe46kc2wbdx5z7r2jy2y  \n",
       "..                            ...  \n",
       "145  31opghsdw4vzh76ui6mvzo4bdy5i  \n",
       "146  31opghsdw4vzh76ui6mvzo4bdy5i  \n",
       "147  31opghsdw4vzh76ui6mvzo4bdy5i  \n",
       "148  31opghsdw4vzh76ui6mvzo4bdy5i  \n",
       "149  31opghsdw4vzh76ui6mvzo4bdy5i  \n",
       "\n",
       "[150 rows x 22 columns]"
      ]
     },
     "execution_count": 5,
     "metadata": {},
     "output_type": "execute_result"
    }
   ],
   "source": [
    "top50"
   ]
  },
  {
   "cell_type": "markdown",
   "metadata": {},
   "source": [
    "### User Based Analysis"
   ]
  },
  {
   "cell_type": "code",
   "execution_count": 48,
   "metadata": {},
   "outputs": [],
   "source": [
    "qualitative = ['artist_names','genres','key','mode','speechiness','liveness','user_id']\n",
    "quantative_normalizable = ['popularity', 'danceability', 'energy', 'loudness','speechiness',\n",
    "       'acousticness', 'instrumentalness', 'valence', 'mode']\n",
    "quantative_not_normalizable = ['tempo', 'duration_ms','user_id']\n",
    "# relative way of normalizing - more distinctive result / shows more persona\n",
    "quantative_normalized = top50[quantative_normalizable].apply(lambda x: (x - x.mean())/x.std(), axis = 0)\n",
    "# absolute way of normalizing - range is [0,1], less distinctive result / a couple of features are similar among users: energy, loudness, valence, etc. \n",
    "# quantative_normalized = (top50[quantative_normalizable] - top50[quantative_normalizable].min())/(top50[quantative_normalizable].max()-top50[quantative_normalizable].min())\n",
    "quantative_top50 = pd.concat([top50[quantative_not_normalizable],quantative_normalized], axis = 1 )"
   ]
  },
  {
   "cell_type": "code",
   "execution_count": 49,
   "metadata": {},
   "outputs": [
    {
     "data": {
      "text/html": [
       "<div>\n",
       "<style scoped>\n",
       "    .dataframe tbody tr th:only-of-type {\n",
       "        vertical-align: middle;\n",
       "    }\n",
       "\n",
       "    .dataframe tbody tr th {\n",
       "        vertical-align: top;\n",
       "    }\n",
       "\n",
       "    .dataframe thead th {\n",
       "        text-align: right;\n",
       "    }\n",
       "</style>\n",
       "<table border=\"1\" class=\"dataframe\">\n",
       "  <thead>\n",
       "    <tr style=\"text-align: right;\">\n",
       "      <th></th>\n",
       "      <th>popularity</th>\n",
       "      <th>danceability</th>\n",
       "      <th>energy</th>\n",
       "      <th>loudness</th>\n",
       "      <th>speechiness</th>\n",
       "      <th>acousticness</th>\n",
       "      <th>instrumentalness</th>\n",
       "      <th>valence</th>\n",
       "      <th>mode</th>\n",
       "    </tr>\n",
       "  </thead>\n",
       "  <tbody>\n",
       "    <tr>\n",
       "      <th>0</th>\n",
       "      <td>0.930488</td>\n",
       "      <td>0.919030</td>\n",
       "      <td>-0.686598</td>\n",
       "      <td>-0.719806</td>\n",
       "      <td>-0.166211</td>\n",
       "      <td>-0.703034</td>\n",
       "      <td>-0.327704</td>\n",
       "      <td>-0.337011</td>\n",
       "      <td>-0.919877</td>\n",
       "    </tr>\n",
       "    <tr>\n",
       "      <th>1</th>\n",
       "      <td>1.275113</td>\n",
       "      <td>-1.269393</td>\n",
       "      <td>-1.141899</td>\n",
       "      <td>-0.928946</td>\n",
       "      <td>-0.309135</td>\n",
       "      <td>0.271048</td>\n",
       "      <td>-0.327663</td>\n",
       "      <td>-0.424059</td>\n",
       "      <td>1.079855</td>\n",
       "    </tr>\n",
       "    <tr>\n",
       "      <th>2</th>\n",
       "      <td>1.447426</td>\n",
       "      <td>-1.237210</td>\n",
       "      <td>-0.799018</td>\n",
       "      <td>-1.048071</td>\n",
       "      <td>0.028462</td>\n",
       "      <td>0.891987</td>\n",
       "      <td>-0.327652</td>\n",
       "      <td>0.576992</td>\n",
       "      <td>1.079855</td>\n",
       "    </tr>\n",
       "    <tr>\n",
       "      <th>3</th>\n",
       "      <td>0.241238</td>\n",
       "      <td>-0.247592</td>\n",
       "      <td>1.005324</td>\n",
       "      <td>0.734467</td>\n",
       "      <td>1.643751</td>\n",
       "      <td>-0.492135</td>\n",
       "      <td>-0.327704</td>\n",
       "      <td>-0.583646</td>\n",
       "      <td>1.079855</td>\n",
       "    </tr>\n",
       "    <tr>\n",
       "      <th>4</th>\n",
       "      <td>0.887410</td>\n",
       "      <td>0.219057</td>\n",
       "      <td>-1.181247</td>\n",
       "      <td>-1.815363</td>\n",
       "      <td>-0.820458</td>\n",
       "      <td>2.741593</td>\n",
       "      <td>-0.074946</td>\n",
       "      <td>0.997723</td>\n",
       "      <td>1.079855</td>\n",
       "    </tr>\n",
       "    <tr>\n",
       "      <th>...</th>\n",
       "      <td>...</td>\n",
       "      <td>...</td>\n",
       "      <td>...</td>\n",
       "      <td>...</td>\n",
       "      <td>...</td>\n",
       "      <td>...</td>\n",
       "      <td>...</td>\n",
       "      <td>...</td>\n",
       "      <td>...</td>\n",
       "    </tr>\n",
       "    <tr>\n",
       "      <th>145</th>\n",
       "      <td>1.318191</td>\n",
       "      <td>1.007533</td>\n",
       "      <td>0.089100</td>\n",
       "      <td>-0.555171</td>\n",
       "      <td>-0.140337</td>\n",
       "      <td>-0.371030</td>\n",
       "      <td>-0.327704</td>\n",
       "      <td>-0.032343</td>\n",
       "      <td>-0.919877</td>\n",
       "    </tr>\n",
       "    <tr>\n",
       "      <th>146</th>\n",
       "      <td>0.801254</td>\n",
       "      <td>0.243194</td>\n",
       "      <td>1.179575</td>\n",
       "      <td>1.096864</td>\n",
       "      <td>-0.448363</td>\n",
       "      <td>-0.681499</td>\n",
       "      <td>-0.322110</td>\n",
       "      <td>1.350751</td>\n",
       "      <td>1.079855</td>\n",
       "    </tr>\n",
       "    <tr>\n",
       "      <th>147</th>\n",
       "      <td>-0.232622</td>\n",
       "      <td>-0.368277</td>\n",
       "      <td>0.645580</td>\n",
       "      <td>0.752871</td>\n",
       "      <td>-0.519825</td>\n",
       "      <td>-0.537494</td>\n",
       "      <td>-0.299942</td>\n",
       "      <td>1.611894</td>\n",
       "      <td>-0.919877</td>\n",
       "    </tr>\n",
       "    <tr>\n",
       "      <th>148</th>\n",
       "      <td>0.758175</td>\n",
       "      <td>0.597203</td>\n",
       "      <td>-0.191950</td>\n",
       "      <td>-0.730179</td>\n",
       "      <td>-0.487790</td>\n",
       "      <td>-0.692509</td>\n",
       "      <td>0.038312</td>\n",
       "      <td>0.905839</td>\n",
       "      <td>1.079855</td>\n",
       "    </tr>\n",
       "    <tr>\n",
       "      <th>149</th>\n",
       "      <td>0.715097</td>\n",
       "      <td>-0.859063</td>\n",
       "      <td>1.010945</td>\n",
       "      <td>1.180185</td>\n",
       "      <td>0.731993</td>\n",
       "      <td>-0.200161</td>\n",
       "      <td>-0.327704</td>\n",
       "      <td>2.066478</td>\n",
       "      <td>1.079855</td>\n",
       "    </tr>\n",
       "  </tbody>\n",
       "</table>\n",
       "<p>150 rows × 9 columns</p>\n",
       "</div>"
      ],
      "text/plain": [
       "     popularity  danceability    energy  loudness  speechiness  acousticness  \\\n",
       "0      0.930488      0.919030 -0.686598 -0.719806    -0.166211     -0.703034   \n",
       "1      1.275113     -1.269393 -1.141899 -0.928946    -0.309135      0.271048   \n",
       "2      1.447426     -1.237210 -0.799018 -1.048071     0.028462      0.891987   \n",
       "3      0.241238     -0.247592  1.005324  0.734467     1.643751     -0.492135   \n",
       "4      0.887410      0.219057 -1.181247 -1.815363    -0.820458      2.741593   \n",
       "..          ...           ...       ...       ...          ...           ...   \n",
       "145    1.318191      1.007533  0.089100 -0.555171    -0.140337     -0.371030   \n",
       "146    0.801254      0.243194  1.179575  1.096864    -0.448363     -0.681499   \n",
       "147   -0.232622     -0.368277  0.645580  0.752871    -0.519825     -0.537494   \n",
       "148    0.758175      0.597203 -0.191950 -0.730179    -0.487790     -0.692509   \n",
       "149    0.715097     -0.859063  1.010945  1.180185     0.731993     -0.200161   \n",
       "\n",
       "     instrumentalness   valence      mode  \n",
       "0           -0.327704 -0.337011 -0.919877  \n",
       "1           -0.327663 -0.424059  1.079855  \n",
       "2           -0.327652  0.576992  1.079855  \n",
       "3           -0.327704 -0.583646  1.079855  \n",
       "4           -0.074946  0.997723  1.079855  \n",
       "..                ...       ...       ...  \n",
       "145         -0.327704 -0.032343 -0.919877  \n",
       "146         -0.322110  1.350751  1.079855  \n",
       "147         -0.299942  1.611894 -0.919877  \n",
       "148          0.038312  0.905839  1.079855  \n",
       "149         -0.327704  2.066478  1.079855  \n",
       "\n",
       "[150 rows x 9 columns]"
      ]
     },
     "execution_count": 49,
     "metadata": {},
     "output_type": "execute_result"
    }
   ],
   "source": [
    "quantative_normalized"
   ]
  },
  {
   "cell_type": "code",
   "execution_count": 57,
   "metadata": {},
   "outputs": [
    {
     "data": {
      "text/plain": [
       "'user_id'"
      ]
     },
     "execution_count": 57,
     "metadata": {},
     "output_type": "execute_result"
    }
   ],
   "source": [
    "user_average_data = quantative_top50.groupby([\"user_id\"]).mean()\n",
    "user_average_data = user_average_data.join(top50[[\"user_id\", \"artist_names\",\"genres\"]].groupby([\"user_id\"]).nunique(), on = 'user_id')\n",
    "# using 3 criteria: \n",
    "# 1. popularity\n",
    "# 2. dance music lover: 0.6 * danceability + 0.3 * loudness + 0.3 * energy - 0.2 * acousticness\n",
    "# 3. musical positiveness: 0.8 * valence + 0.2 * mode\n",
    "# mode -> 1: major key, mode -> 0: minor key\n",
    "user_average_data[\"dance_music_lover\"] = user_average_data[\"danceability\"] * 0.6 + user_average_data[\"loudness\"] * 0.3 + user_average_data[\"energy\"] * 0.3 - user_average_data[\"acousticness\"] * 0.2\n",
    "user_average_data[\"musical_positiveness\"] = user_average_data[\"valence\"] * 0.8 + user_average_data[\"mode\"] * 0.2\n",
    "\n",
    "\n"
   ]
  },
  {
   "cell_type": "code",
   "execution_count": 71,
   "metadata": {},
   "outputs": [
    {
     "data": {
      "application/vnd.plotly.v1+json": {
       "config": {
        "plotlyServerURL": "https://plot.ly"
       },
       "data": [
        {
         "hovertemplate": "dance_music_lover=%{x}<br>musical_positiveness=%{y}<br>popularity=%{z}<br>genres=%{marker.size}<br>tempo=%{marker.color}<extra></extra>",
         "legendgroup": "",
         "marker": {
          "color": [
           118.65772000000001,
           114.91082,
           121.00864
          ],
          "coloraxis": "coloraxis",
          "opacity": 0.7,
          "size": [
           37,
           47,
           42
          ],
          "sizemode": "area",
          "sizeref": 0.14506172839506173,
          "symbol": "circle"
         },
         "mode": "markers",
         "name": "",
         "scene": "scene",
         "showlegend": false,
         "type": "scatter3d",
         "x": [
          -0.14533944341080524,
          -0.24998132290915503,
          0.39532076631996077
         ],
         "y": [
          0.08757036053141248,
          0.2637900424143461,
          -0.3513604029457576
         ],
         "z": [
          0.37908767817318867,
          0.5246918091078906,
          -0.9037794872810793
         ]
        }
       ],
       "layout": {
        "coloraxis": {
         "colorbar": {
          "title": {
           "text": "tempo"
          }
         },
         "colorscale": [
          [
           0,
           "#0d0887"
          ],
          [
           0.1111111111111111,
           "#46039f"
          ],
          [
           0.2222222222222222,
           "#7201a8"
          ],
          [
           0.3333333333333333,
           "#9c179e"
          ],
          [
           0.4444444444444444,
           "#bd3786"
          ],
          [
           0.5555555555555556,
           "#d8576b"
          ],
          [
           0.6666666666666666,
           "#ed7953"
          ],
          [
           0.7777777777777778,
           "#fb9f3a"
          ],
          [
           0.8888888888888888,
           "#fdca26"
          ],
          [
           1,
           "#f0f921"
          ]
         ]
        },
        "legend": {
         "itemsizing": "constant",
         "tracegroupgap": 0
        },
        "margin": {
         "b": 0,
         "l": 0,
         "r": 0,
         "t": 0
        },
        "scene": {
         "domain": {
          "x": [
           0,
           1
          ],
          "y": [
           0,
           1
          ]
         },
         "xaxis": {
          "title": {
           "text": "dance_music_lover"
          }
         },
         "yaxis": {
          "title": {
           "text": "musical_positiveness"
          }
         },
         "zaxis": {
          "title": {
           "text": "popularity"
          }
         }
        },
        "template": {
         "data": {
          "bar": [
           {
            "error_x": {
             "color": "#2a3f5f"
            },
            "error_y": {
             "color": "#2a3f5f"
            },
            "marker": {
             "line": {
              "color": "#E5ECF6",
              "width": 0.5
             },
             "pattern": {
              "fillmode": "overlay",
              "size": 10,
              "solidity": 0.2
             }
            },
            "type": "bar"
           }
          ],
          "barpolar": [
           {
            "marker": {
             "line": {
              "color": "#E5ECF6",
              "width": 0.5
             },
             "pattern": {
              "fillmode": "overlay",
              "size": 10,
              "solidity": 0.2
             }
            },
            "type": "barpolar"
           }
          ],
          "carpet": [
           {
            "aaxis": {
             "endlinecolor": "#2a3f5f",
             "gridcolor": "white",
             "linecolor": "white",
             "minorgridcolor": "white",
             "startlinecolor": "#2a3f5f"
            },
            "baxis": {
             "endlinecolor": "#2a3f5f",
             "gridcolor": "white",
             "linecolor": "white",
             "minorgridcolor": "white",
             "startlinecolor": "#2a3f5f"
            },
            "type": "carpet"
           }
          ],
          "choropleth": [
           {
            "colorbar": {
             "outlinewidth": 0,
             "ticks": ""
            },
            "type": "choropleth"
           }
          ],
          "contour": [
           {
            "colorbar": {
             "outlinewidth": 0,
             "ticks": ""
            },
            "colorscale": [
             [
              0,
              "#0d0887"
             ],
             [
              0.1111111111111111,
              "#46039f"
             ],
             [
              0.2222222222222222,
              "#7201a8"
             ],
             [
              0.3333333333333333,
              "#9c179e"
             ],
             [
              0.4444444444444444,
              "#bd3786"
             ],
             [
              0.5555555555555556,
              "#d8576b"
             ],
             [
              0.6666666666666666,
              "#ed7953"
             ],
             [
              0.7777777777777778,
              "#fb9f3a"
             ],
             [
              0.8888888888888888,
              "#fdca26"
             ],
             [
              1,
              "#f0f921"
             ]
            ],
            "type": "contour"
           }
          ],
          "contourcarpet": [
           {
            "colorbar": {
             "outlinewidth": 0,
             "ticks": ""
            },
            "type": "contourcarpet"
           }
          ],
          "heatmap": [
           {
            "colorbar": {
             "outlinewidth": 0,
             "ticks": ""
            },
            "colorscale": [
             [
              0,
              "#0d0887"
             ],
             [
              0.1111111111111111,
              "#46039f"
             ],
             [
              0.2222222222222222,
              "#7201a8"
             ],
             [
              0.3333333333333333,
              "#9c179e"
             ],
             [
              0.4444444444444444,
              "#bd3786"
             ],
             [
              0.5555555555555556,
              "#d8576b"
             ],
             [
              0.6666666666666666,
              "#ed7953"
             ],
             [
              0.7777777777777778,
              "#fb9f3a"
             ],
             [
              0.8888888888888888,
              "#fdca26"
             ],
             [
              1,
              "#f0f921"
             ]
            ],
            "type": "heatmap"
           }
          ],
          "heatmapgl": [
           {
            "colorbar": {
             "outlinewidth": 0,
             "ticks": ""
            },
            "colorscale": [
             [
              0,
              "#0d0887"
             ],
             [
              0.1111111111111111,
              "#46039f"
             ],
             [
              0.2222222222222222,
              "#7201a8"
             ],
             [
              0.3333333333333333,
              "#9c179e"
             ],
             [
              0.4444444444444444,
              "#bd3786"
             ],
             [
              0.5555555555555556,
              "#d8576b"
             ],
             [
              0.6666666666666666,
              "#ed7953"
             ],
             [
              0.7777777777777778,
              "#fb9f3a"
             ],
             [
              0.8888888888888888,
              "#fdca26"
             ],
             [
              1,
              "#f0f921"
             ]
            ],
            "type": "heatmapgl"
           }
          ],
          "histogram": [
           {
            "marker": {
             "pattern": {
              "fillmode": "overlay",
              "size": 10,
              "solidity": 0.2
             }
            },
            "type": "histogram"
           }
          ],
          "histogram2d": [
           {
            "colorbar": {
             "outlinewidth": 0,
             "ticks": ""
            },
            "colorscale": [
             [
              0,
              "#0d0887"
             ],
             [
              0.1111111111111111,
              "#46039f"
             ],
             [
              0.2222222222222222,
              "#7201a8"
             ],
             [
              0.3333333333333333,
              "#9c179e"
             ],
             [
              0.4444444444444444,
              "#bd3786"
             ],
             [
              0.5555555555555556,
              "#d8576b"
             ],
             [
              0.6666666666666666,
              "#ed7953"
             ],
             [
              0.7777777777777778,
              "#fb9f3a"
             ],
             [
              0.8888888888888888,
              "#fdca26"
             ],
             [
              1,
              "#f0f921"
             ]
            ],
            "type": "histogram2d"
           }
          ],
          "histogram2dcontour": [
           {
            "colorbar": {
             "outlinewidth": 0,
             "ticks": ""
            },
            "colorscale": [
             [
              0,
              "#0d0887"
             ],
             [
              0.1111111111111111,
              "#46039f"
             ],
             [
              0.2222222222222222,
              "#7201a8"
             ],
             [
              0.3333333333333333,
              "#9c179e"
             ],
             [
              0.4444444444444444,
              "#bd3786"
             ],
             [
              0.5555555555555556,
              "#d8576b"
             ],
             [
              0.6666666666666666,
              "#ed7953"
             ],
             [
              0.7777777777777778,
              "#fb9f3a"
             ],
             [
              0.8888888888888888,
              "#fdca26"
             ],
             [
              1,
              "#f0f921"
             ]
            ],
            "type": "histogram2dcontour"
           }
          ],
          "mesh3d": [
           {
            "colorbar": {
             "outlinewidth": 0,
             "ticks": ""
            },
            "type": "mesh3d"
           }
          ],
          "parcoords": [
           {
            "line": {
             "colorbar": {
              "outlinewidth": 0,
              "ticks": ""
             }
            },
            "type": "parcoords"
           }
          ],
          "pie": [
           {
            "automargin": true,
            "type": "pie"
           }
          ],
          "scatter": [
           {
            "fillpattern": {
             "fillmode": "overlay",
             "size": 10,
             "solidity": 0.2
            },
            "type": "scatter"
           }
          ],
          "scatter3d": [
           {
            "line": {
             "colorbar": {
              "outlinewidth": 0,
              "ticks": ""
             }
            },
            "marker": {
             "colorbar": {
              "outlinewidth": 0,
              "ticks": ""
             }
            },
            "type": "scatter3d"
           }
          ],
          "scattercarpet": [
           {
            "marker": {
             "colorbar": {
              "outlinewidth": 0,
              "ticks": ""
             }
            },
            "type": "scattercarpet"
           }
          ],
          "scattergeo": [
           {
            "marker": {
             "colorbar": {
              "outlinewidth": 0,
              "ticks": ""
             }
            },
            "type": "scattergeo"
           }
          ],
          "scattergl": [
           {
            "marker": {
             "colorbar": {
              "outlinewidth": 0,
              "ticks": ""
             }
            },
            "type": "scattergl"
           }
          ],
          "scattermapbox": [
           {
            "marker": {
             "colorbar": {
              "outlinewidth": 0,
              "ticks": ""
             }
            },
            "type": "scattermapbox"
           }
          ],
          "scatterpolar": [
           {
            "marker": {
             "colorbar": {
              "outlinewidth": 0,
              "ticks": ""
             }
            },
            "type": "scatterpolar"
           }
          ],
          "scatterpolargl": [
           {
            "marker": {
             "colorbar": {
              "outlinewidth": 0,
              "ticks": ""
             }
            },
            "type": "scatterpolargl"
           }
          ],
          "scatterternary": [
           {
            "marker": {
             "colorbar": {
              "outlinewidth": 0,
              "ticks": ""
             }
            },
            "type": "scatterternary"
           }
          ],
          "surface": [
           {
            "colorbar": {
             "outlinewidth": 0,
             "ticks": ""
            },
            "colorscale": [
             [
              0,
              "#0d0887"
             ],
             [
              0.1111111111111111,
              "#46039f"
             ],
             [
              0.2222222222222222,
              "#7201a8"
             ],
             [
              0.3333333333333333,
              "#9c179e"
             ],
             [
              0.4444444444444444,
              "#bd3786"
             ],
             [
              0.5555555555555556,
              "#d8576b"
             ],
             [
              0.6666666666666666,
              "#ed7953"
             ],
             [
              0.7777777777777778,
              "#fb9f3a"
             ],
             [
              0.8888888888888888,
              "#fdca26"
             ],
             [
              1,
              "#f0f921"
             ]
            ],
            "type": "surface"
           }
          ],
          "table": [
           {
            "cells": {
             "fill": {
              "color": "#EBF0F8"
             },
             "line": {
              "color": "white"
             }
            },
            "header": {
             "fill": {
              "color": "#C8D4E3"
             },
             "line": {
              "color": "white"
             }
            },
            "type": "table"
           }
          ]
         },
         "layout": {
          "annotationdefaults": {
           "arrowcolor": "#2a3f5f",
           "arrowhead": 0,
           "arrowwidth": 1
          },
          "autotypenumbers": "strict",
          "coloraxis": {
           "colorbar": {
            "outlinewidth": 0,
            "ticks": ""
           }
          },
          "colorscale": {
           "diverging": [
            [
             0,
             "#8e0152"
            ],
            [
             0.1,
             "#c51b7d"
            ],
            [
             0.2,
             "#de77ae"
            ],
            [
             0.3,
             "#f1b6da"
            ],
            [
             0.4,
             "#fde0ef"
            ],
            [
             0.5,
             "#f7f7f7"
            ],
            [
             0.6,
             "#e6f5d0"
            ],
            [
             0.7,
             "#b8e186"
            ],
            [
             0.8,
             "#7fbc41"
            ],
            [
             0.9,
             "#4d9221"
            ],
            [
             1,
             "#276419"
            ]
           ],
           "sequential": [
            [
             0,
             "#0d0887"
            ],
            [
             0.1111111111111111,
             "#46039f"
            ],
            [
             0.2222222222222222,
             "#7201a8"
            ],
            [
             0.3333333333333333,
             "#9c179e"
            ],
            [
             0.4444444444444444,
             "#bd3786"
            ],
            [
             0.5555555555555556,
             "#d8576b"
            ],
            [
             0.6666666666666666,
             "#ed7953"
            ],
            [
             0.7777777777777778,
             "#fb9f3a"
            ],
            [
             0.8888888888888888,
             "#fdca26"
            ],
            [
             1,
             "#f0f921"
            ]
           ],
           "sequentialminus": [
            [
             0,
             "#0d0887"
            ],
            [
             0.1111111111111111,
             "#46039f"
            ],
            [
             0.2222222222222222,
             "#7201a8"
            ],
            [
             0.3333333333333333,
             "#9c179e"
            ],
            [
             0.4444444444444444,
             "#bd3786"
            ],
            [
             0.5555555555555556,
             "#d8576b"
            ],
            [
             0.6666666666666666,
             "#ed7953"
            ],
            [
             0.7777777777777778,
             "#fb9f3a"
            ],
            [
             0.8888888888888888,
             "#fdca26"
            ],
            [
             1,
             "#f0f921"
            ]
           ]
          },
          "colorway": [
           "#636efa",
           "#EF553B",
           "#00cc96",
           "#ab63fa",
           "#FFA15A",
           "#19d3f3",
           "#FF6692",
           "#B6E880",
           "#FF97FF",
           "#FECB52"
          ],
          "font": {
           "color": "#2a3f5f"
          },
          "geo": {
           "bgcolor": "white",
           "lakecolor": "white",
           "landcolor": "#E5ECF6",
           "showlakes": true,
           "showland": true,
           "subunitcolor": "white"
          },
          "hoverlabel": {
           "align": "left"
          },
          "hovermode": "closest",
          "mapbox": {
           "style": "light"
          },
          "paper_bgcolor": "white",
          "plot_bgcolor": "#E5ECF6",
          "polar": {
           "angularaxis": {
            "gridcolor": "white",
            "linecolor": "white",
            "ticks": ""
           },
           "bgcolor": "#E5ECF6",
           "radialaxis": {
            "gridcolor": "white",
            "linecolor": "white",
            "ticks": ""
           }
          },
          "scene": {
           "xaxis": {
            "backgroundcolor": "#E5ECF6",
            "gridcolor": "white",
            "gridwidth": 2,
            "linecolor": "white",
            "showbackground": true,
            "ticks": "",
            "zerolinecolor": "white"
           },
           "yaxis": {
            "backgroundcolor": "#E5ECF6",
            "gridcolor": "white",
            "gridwidth": 2,
            "linecolor": "white",
            "showbackground": true,
            "ticks": "",
            "zerolinecolor": "white"
           },
           "zaxis": {
            "backgroundcolor": "#E5ECF6",
            "gridcolor": "white",
            "gridwidth": 2,
            "linecolor": "white",
            "showbackground": true,
            "ticks": "",
            "zerolinecolor": "white"
           }
          },
          "shapedefaults": {
           "line": {
            "color": "#2a3f5f"
           }
          },
          "ternary": {
           "aaxis": {
            "gridcolor": "white",
            "linecolor": "white",
            "ticks": ""
           },
           "baxis": {
            "gridcolor": "white",
            "linecolor": "white",
            "ticks": ""
           },
           "bgcolor": "#E5ECF6",
           "caxis": {
            "gridcolor": "white",
            "linecolor": "white",
            "ticks": ""
           }
          },
          "title": {
           "x": 0.05
          },
          "xaxis": {
           "automargin": true,
           "gridcolor": "white",
           "linecolor": "white",
           "ticks": "",
           "title": {
            "standoff": 15
           },
           "zerolinecolor": "white",
           "zerolinewidth": 2
          },
          "yaxis": {
           "automargin": true,
           "gridcolor": "white",
           "linecolor": "white",
           "ticks": "",
           "title": {
            "standoff": 15
           },
           "zerolinecolor": "white",
           "zerolinewidth": 2
          }
         }
        }
       }
      }
     },
     "metadata": {},
     "output_type": "display_data"
    }
   ],
   "source": [
    "\n",
    "fig = px.scatter_3d(user_average_data, x = 'dance_music_lover', y = 'musical_positiveness', z = 'popularity', color = 'tempo', size = 'genres', size_max = 18,\n",
    "                    opacity = 0.7)\n",
    "\n",
    "fig.update_layout(margin = dict(l=0, r=0, b=0, t=0))\n"
   ]
  },
  {
   "cell_type": "code",
   "execution_count": null,
   "metadata": {},
   "outputs": [],
   "source": []
  }
 ],
 "metadata": {
  "kernelspec": {
   "display_name": "Python 3.10.5 64-bit",
   "language": "python",
   "name": "python3"
  },
  "language_info": {
   "codemirror_mode": {
    "name": "ipython",
    "version": 3
   },
   "file_extension": ".py",
   "mimetype": "text/x-python",
   "name": "python",
   "nbconvert_exporter": "python",
   "pygments_lexer": "ipython3",
   "version": "3.10.5"
  },
  "orig_nbformat": 4,
  "vscode": {
   "interpreter": {
    "hash": "aee8b7b246df8f9039afb4144a1f6fd8d2ca17a180786b69acc140d282b71a49"
   }
  }
 },
 "nbformat": 4,
 "nbformat_minor": 2
}
